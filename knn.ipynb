{
 "cells": [
  {
   "cell_type": "code",
   "execution_count": 1,
   "id": "7bfd128d",
   "metadata": {},
   "outputs": [],
   "source": [
    "import numpy as np\n",
    "import mltools as ml\n",
    "import matplotlib.pyplot as plt\n",
    "from sklearn import preprocessing\n",
    "from sklearn.feature_selection import SelectKBest,f_classif\n",
    "from sklearn.feature_selection import SelectPercentile\n",
    "from sklearn.neighbors import KNeighborsClassifier\n",
    "from sklearn.metrics import roc_curve\n",
    "from sklearn.metrics import auc\n",
    "from sklearn.ensemble import ExtraTreesClassifier\n",
    "\n",
    "def toKaggle(YeHat):\n",
    "    fh = open(\"Y_submit.txt\",\"w\")\n",
    "    fh.write(\"ID,Predicted\\n\")\n",
    "    for i,yi in enumerate(YeHat.ravel()[:7422]):\n",
    "        fh.write(f\"{i},{yi}\\n\")\n",
    "    fh.close()\n",
    "\n",
    "X = np.genfromtxt('X_train.txt', delimiter=',')\n",
    "Y = np.genfromtxt('Y_train.txt', delimiter=',')\n",
    "Xte = np.genfromtxt('X_test.txt',delimiter =',')\n",
    "X,Y = ml.shuffleData(X,Y)\n",
    "\n",
    "\n",
    "\n",
    "\n",
    "\n",
    "\n"
   ]
  },
  {
   "cell_type": "code",
   "execution_count": 2,
   "id": "a6878b3d",
   "metadata": {},
   "outputs": [
    {
     "name": "stdout",
     "output_type": "stream",
     "text": [
      "Training AUC:  0.7323492629276348\n",
      "Validation AUC:  0.6867294080878167\n"
     ]
    }
   ],
   "source": [
    "\n",
    "#Binary data was tested and had poor scores w.r.t importance of each feature \n",
    "Xt = preprocessing.normalize(X,axis = 0)[:,:69] #Normalize non-binary data\n",
    "\n",
    "'''\n",
    "This was used to determine the importance of each feature \n",
    "model = ExtraTreesClassifier(n_estimators = 20)\n",
    "model.fit(Xt,Y)\n",
    "ft = list()\n",
    "for i,v in enumerate(model.feature_importances_):\n",
    "    ft.append((i,v))\n",
    "ft = sorted(ft,key = lambda x:x[1],reverse = True)\n",
    "for f in ft:\n",
    "    print(f)\n",
    "'''\n",
    "\n",
    "\n",
    "\n",
    "\n",
    "\n",
    "sf = SelectPercentile(f_classif, percentile=7)\n",
    "fit = sf.fit(Xt,Y)\n",
    "features = fit.transform(Xt)\n",
    "Xtr,Xva,Ytr,Yva = ml.splitData(features,Y, 0.50)\n",
    "\n",
    "\n",
    "n = KNeighborsClassifier(n_neighbors = 33,metric = \"manhattan\")\n",
    "n.fit(Xtr,Ytr)\n",
    "\n",
    "\n",
    "\n",
    "\n",
    "y_scores = n.predict_proba(Xtr)\n",
    "fpr, tpr, threshold = roc_curve(Ytr,y_scores[:, 1])\n",
    "roc_auc = auc(fpr, tpr)\n",
    "print(\"Training AUC: \",roc_auc)\n",
    "y_scores = n.predict_proba(Xva)\n",
    "fpr, tpr, threshold = roc_curve(Yva, y_scores[:, 1])\n",
    "roc_auc = auc(fpr, tpr)\n",
    "print(\"Validation AUC: \",roc_auc)\n",
    "\n",
    "\n",
    "featuresT = fit.transform(Xte[:,:69])\n",
    "pre = n.predict_proba(featuresT)[:,1]\n",
    "toKaggle(pre)\n",
    "\n",
    "\n",
    "\n"
   ]
  },
  {
   "cell_type": "code",
   "execution_count": null,
   "id": "819fa48b",
   "metadata": {},
   "outputs": [],
   "source": []
  },
  {
   "cell_type": "code",
   "execution_count": null,
   "id": "07d7c5be",
   "metadata": {},
   "outputs": [],
   "source": []
  },
  {
   "cell_type": "code",
   "execution_count": null,
   "id": "77b0cb4e",
   "metadata": {},
   "outputs": [],
   "source": []
  }
 ],
 "metadata": {
  "kernelspec": {
   "display_name": "Python 3",
   "language": "python",
   "name": "python3"
  },
  "language_info": {
   "codemirror_mode": {
    "name": "ipython",
    "version": 3
   },
   "file_extension": ".py",
   "mimetype": "text/x-python",
   "name": "python",
   "nbconvert_exporter": "python",
   "pygments_lexer": "ipython3",
   "version": "3.8.8"
  }
 },
 "nbformat": 4,
 "nbformat_minor": 5
}
