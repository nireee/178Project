{
 "cells": [
  {
   "cell_type": "code",
   "execution_count": 1,
   "metadata": {},
   "outputs": [],
   "source": [
    "#Project Group 60\n",
    "#Group Member: David Wing Chen, 66475428; Peiyi Li, 23851057; Lily Mingyi He,78774887\n",
    "#Kaggle team name: Creative Team Name"
   ]
  },
  {
   "cell_type": "code",
   "execution_count": 2,
   "metadata": {},
   "outputs": [
    {
     "name": "stdout",
     "output_type": "stream",
     "text": [
      "errTrain 0.42823783007005567 errValidation 0.44989224137931033\n",
      "errTrain 0.42823783007005567 errValidation 0.44989224137931033\n"
     ]
    }
   ],
   "source": [
    "# #K-Nearest Neighbors\n",
    "# import numpy as np\n",
    "# import matplotlib.pyplot as plt\n",
    "# import mltools as ml\n",
    "\n",
    "\n",
    "# X = np.genfromtxt('data/X_train.txt', delimiter=',') \n",
    "# Y = np.genfromtxt('data/Y_train.txt', delimiter=',') \n",
    "# np.random.seed(0)\n",
    "# X,Y = ml.shuffleData(X,Y);\n",
    "# Xtr,Xva,Ytr,Yva = ml.splitData(X,Y, 0.75);\n",
    "# knn = ml.knn.knnClassify()\n",
    "# knn.train(Xtr,Ytr)\n",
    "# knn.K = 100;\n",
    "# errTrain = knn.err(Xtr,Ytr)\n",
    "# errValidation = knn.err(Xva,Yva)\n",
    "# Xte = np.genfromtxt('data/X_test.txt', delimiter= ',')\n",
    "# Yte = np.vstack((np.arange(Xte.shape[0]), knn.predictSoft(Xte)[:, 1])).T\n",
    "# np.savetxt('Y_submit.txt',Yte,'%d, %.2f',header='Id,Predicted',comments='',delimiter=',')\n",
    "# print(\"errTrain\",errTrain,\"errValidation\",errValidation)"
   ]
  },
  {
   "cell_type": "code",
   "execution_count": 2,
   "metadata": {},
   "outputs": [],
   "source": [
    "#Linear models"
   ]
  },
  {
   "cell_type": "code",
   "execution_count": 49,
   "metadata": {},
   "outputs": [
    {
     "name": "stderr",
     "output_type": "stream",
     "text": [
      "[Parallel(n_jobs=-1)]: Using backend ThreadingBackend with 8 concurrent workers.\n",
      "[Parallel(n_jobs=-1)]: Done  34 tasks      | elapsed:    0.1s\n",
      "[Parallel(n_jobs=-1)]: Done 184 tasks      | elapsed:    0.5s\n",
      "[Parallel(n_jobs=-1)]: Done 434 tasks      | elapsed:    1.1s\n",
      "[Parallel(n_jobs=-1)]: Done 784 tasks      | elapsed:    2.0s\n",
      "[Parallel(n_jobs=-1)]: Done 1000 out of 1000 | elapsed:    2.6s finished\n",
      "[Parallel(n_jobs=8)]: Using backend ThreadingBackend with 8 concurrent workers.\n",
      "[Parallel(n_jobs=8)]: Done  34 tasks      | elapsed:    0.0s\n",
      "[Parallel(n_jobs=8)]: Done 184 tasks      | elapsed:    0.0s\n",
      "[Parallel(n_jobs=8)]: Done 434 tasks      | elapsed:    0.1s\n",
      "[Parallel(n_jobs=8)]: Done 784 tasks      | elapsed:    0.2s\n",
      "[Parallel(n_jobs=8)]: Done 1000 out of 1000 | elapsed:    0.2s finished\n",
      "[Parallel(n_jobs=8)]: Using backend ThreadingBackend with 8 concurrent workers.\n",
      "[Parallel(n_jobs=8)]: Done  34 tasks      | elapsed:    0.0s\n",
      "[Parallel(n_jobs=8)]: Done 184 tasks      | elapsed:    0.0s\n",
      "[Parallel(n_jobs=8)]: Done 434 tasks      | elapsed:    0.1s\n",
      "[Parallel(n_jobs=8)]: Done 784 tasks      | elapsed:    0.1s\n",
      "[Parallel(n_jobs=8)]: Done 1000 out of 1000 | elapsed:    0.1s finished\n"
     ]
    },
    {
     "name": "stdout",
     "output_type": "stream",
     "text": [
      "Training: 0.9489603566261777\n",
      "Validation: 0.7302410886856973\n"
     ]
    },
    {
     "name": "stderr",
     "output_type": "stream",
     "text": [
      "[Parallel(n_jobs=-1)]: Using backend ThreadingBackend with 8 concurrent workers.\n",
      "[Parallel(n_jobs=-1)]: Done  34 tasks      | elapsed:    0.2s\n",
      "[Parallel(n_jobs=-1)]: Done 184 tasks      | elapsed:    0.7s\n",
      "[Parallel(n_jobs=-1)]: Done 434 tasks      | elapsed:    1.7s\n",
      "[Parallel(n_jobs=-1)]: Done 784 tasks      | elapsed:    3.0s\n",
      "[Parallel(n_jobs=-1)]: Done 1000 out of 1000 | elapsed:    3.8s finished\n",
      "[Parallel(n_jobs=8)]: Using backend ThreadingBackend with 8 concurrent workers.\n",
      "[Parallel(n_jobs=8)]: Done  34 tasks      | elapsed:    0.0s\n",
      "[Parallel(n_jobs=8)]: Done 184 tasks      | elapsed:    0.1s\n",
      "[Parallel(n_jobs=8)]: Done 434 tasks      | elapsed:    0.1s\n"
     ]
    },
    {
     "name": "stdout",
     "output_type": "stream",
     "text": [
      "Kaggle score: 0.74373\n"
     ]
    },
    {
     "name": "stderr",
     "output_type": "stream",
     "text": [
      "[Parallel(n_jobs=8)]: Done 784 tasks      | elapsed:    0.2s\n",
      "[Parallel(n_jobs=8)]: Done 1000 out of 1000 | elapsed:    0.3s finished\n"
     ]
    }
   ],
   "source": [
    "#Random forests\n",
    "import numpy as np\n",
    "import matplotlib.pyplot as plt\n",
    "import mltools as ml\n",
    "import sklearn.metrics\n",
    "import sklearn.ensemble\n",
    "import sklearn.datasets\n",
    "\n",
    "\n",
    "X = np.genfromtxt('data/X_train.txt', delimiter=',') \n",
    "Y = np.genfromtxt('data/Y_train.txt', delimiter=',') \n",
    "X,Y = ml.shuffleData(X,Y)\n",
    "Xtr,Xva,Ytr,Yva = ml.splitData(X, Y,train_fraction=0.75)\n",
    "Xte = np.genfromtxt(\"data/X_test.txt\", delimiter = \",\")\n",
    "\n",
    "Xb,Yb = ml.bootstrapData(Xtr,Ytr)\n",
    "learner = sklearn.ensemble.RandomForestClassifier(bootstrap=True,n_estimators = 1000,max_depth = None,min_samples_leaf = 4,oob_score = True,n_jobs = -1,verbose=1)\n",
    "learner.fit(Xb,Yb)\n",
    "\n",
    "pred_tr = learner.predict_proba(Xtr)[:,1]\n",
    "auc_tr = sklearn.metrics.roc_auc_score(Ytr, pred_tr)\n",
    "print(\"Training:\",auc_tr)\n",
    "\n",
    "\n",
    "pred_va = learner.predict_proba(Xva)[:,1]\n",
    "auc_va = sklearn.metrics.roc_auc_score(Yva, pred_va)\n",
    "print(\"Validation:\",auc_va)\n",
    "\n",
    "rf = sklearn.ensemble.RandomForestClassifier(bootstrap=True,n_estimators = 1000,max_depth = None,min_samples_leaf = 4,oob_score = True,n_jobs = -1,verbose=1)\n",
    "rf.fit(X,Y)\n",
    "pred = rf.predict_proba(Xte)[:,1:2]\n",
    "Yte = np.vstack((np.arange(Xte.shape[0]),pred[:,0])).T\n",
    "# auc = sklearn.metrics.roc_auc_score(Yte, pred)\n",
    "# print(auc)\n",
    "np.savetxt('Y_submit.txt',Yte,'%d, %.2f',header='Id,Predicted',comments='',delimiter=',')\n",
    "print(\"Kaggle score:\",0.74373)\n"
   ]
  }
 ],
 "metadata": {
  "kernelspec": {
   "display_name": "Python 3",
   "language": "python",
   "name": "python3"
  },
  "language_info": {
   "codemirror_mode": {
    "name": "ipython",
    "version": 3
   },
   "file_extension": ".py",
   "mimetype": "text/x-python",
   "name": "python",
   "nbconvert_exporter": "python",
   "pygments_lexer": "ipython3",
   "version": "3.8.5"
  }
 },
 "nbformat": 4,
 "nbformat_minor": 4
}
