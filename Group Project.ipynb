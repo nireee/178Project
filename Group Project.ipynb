{
 "cells": [
  {
   "cell_type": "code",
   "execution_count": 1,
   "metadata": {},
   "outputs": [],
   "source": [
    "#Project Group 60\n",
    "#Group Member: David Wing Chen, 66475428; Peiyi Li, 23851057; Lily Mingyi He,78774887\n",
    "#Kaggle team name: Creative Team Name"
   ]
  },
  {
   "cell_type": "code",
   "execution_count": 2,
   "metadata": {},
   "outputs": [
    {
     "name": "stdout",
     "output_type": "stream",
     "text": [
      "errTrain 0.42823783007005567 errValidation 0.44989224137931033\n",
      "errTrain 0.42823783007005567 errValidation 0.44989224137931033\n"
     ]
    }
   ],
   "source": [
    "#K-Nearest Neighbors\n",
    "import numpy as np\n",
    "import matplotlib.pyplot as plt\n",
    "import mltools as ml\n",
    "\n",
    "\n",
    "X = np.genfromtxt('data/X_train.txt', delimiter=',') \n",
    "Y = np.genfromtxt('data/Y_train.txt', delimiter=',') \n",
    "np.random.seed(0)\n",
    "X,Y = ml.shuffleData(X,Y);\n",
    "Xtr,Xva,Ytr,Yva = ml.splitData(X,Y, 0.75);\n",
    "knn = ml.knn.knnClassify()\n",
    "knn.train(Xtr,Ytr)\n",
    "knn.K = 100;\n",
    "errTrain = knn.err(Xtr,Ytr)\n",
    "errValidation = knn.err(Xva,Yva)\n",
    "Xte = np.genfromtxt('data/X_test.txt', delimiter= ',')\n",
    "Yte = np.vstack((np.arange(Xte.shape[0]), knn.predictSoft(Xte)[:, 1])).T\n",
    "np.savetxt('Y_submit.txt',Yte,'%d, %.2f',header='Id,Predicted',comments='',delimiter=',')\n",
    "print(\"errTrain\",errTrain,\"errValidation\",errValidation)"
   ]
  },
  {
   "cell_type": "code",
   "execution_count": 3,
   "metadata": {},
   "outputs": [],
   "source": [
    "#Linear models"
   ]
  },
  {
   "cell_type": "code",
   "execution_count": 4,
   "metadata": {},
   "outputs": [],
   "source": [
    "#Random forests\n",
    "X = np.genfromtxt('data/X_train.txt', delimiter=',') \n",
    "Y = np.genfromtxt('data/Y_train.txt', delimiter=',') \n",
    "X,Y = ml.shuffleData(X,Y)\n",
    "Xtr,Xva,Ytr,Yva = ml.splitData(X, Y,train_fraction=0.75)\n"
   ]
  }
 ],
 "metadata": {
  "kernelspec": {
   "display_name": "Python 3",
   "language": "python",
   "name": "python3"
  },
  "language_info": {
   "codemirror_mode": {
    "name": "ipython",
    "version": 3
   },
   "file_extension": ".py",
   "mimetype": "text/x-python",
   "name": "python",
   "nbconvert_exporter": "python",
   "pygments_lexer": "ipython3",
   "version": "3.8.5"
  }
 },
 "nbformat": 4,
 "nbformat_minor": 4
}
