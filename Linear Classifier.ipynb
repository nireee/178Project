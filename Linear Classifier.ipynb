{
 "cells": [
  {
   "cell_type": "code",
   "execution_count": 54,
   "id": "5b62180b",
   "metadata": {},
   "outputs": [],
   "source": [
    "import mltools as ml\n",
    "import numpy as np\n",
    "import matplotlib.pyplot as plt\n",
    "from sklearn.linear_model import LogisticRegression\n",
    "from sklearn.feature_selection import SelectPercentile, f_classif\n",
    "from sklearn.metrics import roc_curve\n",
    "from sklearn.metrics import auc\n",
    "import pandas as pd\n",
    "from sklearn import metrics"
   ]
  },
  {
   "cell_type": "code",
   "execution_count": 55,
   "id": "c26881a9",
   "metadata": {},
   "outputs": [],
   "source": [
    "X = np.genfromtxt('data/X_train.txt', delimiter=',')\n",
    "Y = np.genfromtxt('data/Y_train.txt', delimiter=',')\n",
    "Xtesting = np.genfromtxt('data/X_test.txt',delimiter =',')\n",
    "X,Y = ml.shuffleData(X,Y)\n",
    "Xtr,Xva,Ytr,Yva = ml.splitData(X,Y, 0.70)"
   ]
  },
  {
   "cell_type": "code",
   "execution_count": 58,
   "id": "960a6973",
   "metadata": {},
   "outputs": [
    {
     "name": "stdout",
     "output_type": "stream",
     "text": [
      "Training AUC:  0.5832143842399876\n",
      "Validation AUC:  0.587097466481425\n"
     ]
    },
    {
     "name": "stderr",
     "output_type": "stream",
     "text": [
      "/usr/local/lib/python3.9/site-packages/sklearn/linear_model/_logistic.py:814: ConvergenceWarning: lbfgs failed to converge (status=1):\n",
      "STOP: TOTAL NO. of ITERATIONS REACHED LIMIT.\n",
      "\n",
      "Increase the number of iterations (max_iter) or scale the data as shown in:\n",
      "    https://scikit-learn.org/stable/modules/preprocessing.html\n",
      "Please also refer to the documentation for alternative solver options:\n",
      "    https://scikit-learn.org/stable/modules/linear_model.html#logistic-regression\n",
      "  n_iter_i = _check_optimize_result(\n",
      "/usr/local/lib/python3.9/site-packages/sklearn/linear_model/_logistic.py:814: ConvergenceWarning: lbfgs failed to converge (status=1):\n",
      "STOP: TOTAL NO. of ITERATIONS REACHED LIMIT.\n",
      "\n",
      "Increase the number of iterations (max_iter) or scale the data as shown in:\n",
      "    https://scikit-learn.org/stable/modules/preprocessing.html\n",
      "Please also refer to the documentation for alternative solver options:\n",
      "    https://scikit-learn.org/stable/modules/linear_model.html#logistic-regression\n",
      "  n_iter_i = _check_optimize_result(\n"
     ]
    }
   ],
   "source": [
    "#training data\n",
    "regressor = LogisticRegression()\n",
    "regressor.fit(Xtr, Ytr)\n",
    "Ytr_hat = regressor.predict_proba(Xtr)\n",
    "#roc_curve(true y, prediction)\n",
    "fpr, tpr, threshold = roc_curve(Ytr,Ytr_hat[:, 1])\n",
    "roc_auc = auc(fpr, tpr)\n",
    "print(\"Training AUC: \",roc_auc)\n",
    "\n",
    "#testing data\n",
    "regressor.fit(Xva, Yva)\n",
    "Yva_hat = regressor.predict_proba(Xva)\n",
    "fpr, tpr, threshold = roc_curve(Yva, Yva_hat[:, 1])\n",
    "roc_auc = auc(fpr, tpr)\n",
    "print(\"Validation AUC: \",roc_auc)"
   ]
  },
  {
   "cell_type": "code",
   "execution_count": 60,
   "id": "bd24c6b7",
   "metadata": {},
   "outputs": [],
   "source": [
    "def toKaggle(YeHat):\n",
    "    fh = open(\"Y_submit_lin.txt\",\"w\")\n",
    "    fh.write(\"ID,Predicted\\n\")\n",
    "    for i,yi in enumerate(YeHat.ravel()[:7422]):\n",
    "        fh.write(f\"{i},{yi}\\n\")\n",
    "    fh.close()\n",
    "\n",
    "pre = regressor.predict_proba(Xtesting)\n",
    "toKaggle(pre)\n"
   ]
  }
 ],
 "metadata": {
  "kernelspec": {
   "display_name": "Python 3",
   "language": "python",
   "name": "python3"
  },
  "language_info": {
   "codemirror_mode": {
    "name": "ipython",
    "version": 3
   },
   "file_extension": ".py",
   "mimetype": "text/x-python",
   "name": "python",
   "nbconvert_exporter": "python",
   "pygments_lexer": "ipython3",
   "version": "3.9.1"
  }
 },
 "nbformat": 4,
 "nbformat_minor": 5
}
